{
  "cells": [
    {
      "cell_type": "code",
      "execution_count": 1,
      "metadata": {
        "colab": {
          "base_uri": "https://localhost:8080/"
        },
        "id": "gq3E08vWXsGv",
        "outputId": "b5120d0c-8255-4fc6-8101-ee15b1d3301f"
      },
      "outputs": [
        {
          "output_type": "stream",
          "name": "stdout",
          "text": [
            "Mounted at /content/drive\n",
            "Looking in indexes: https://pypi.org/simple, https://us-python.pkg.dev/colab-wheels/public/simple/\n",
            "Collecting folium==0.2.1\n",
            "  Downloading folium-0.2.1.tar.gz (69 kB)\n",
            "\u001b[K     |████████████████████████████████| 69 kB 4.6 MB/s \n",
            "\u001b[?25hRequirement already satisfied: Jinja2 in /usr/local/lib/python3.7/dist-packages (from folium==0.2.1) (2.11.3)\n",
            "Requirement already satisfied: MarkupSafe>=0.23 in /usr/local/lib/python3.7/dist-packages (from Jinja2->folium==0.2.1) (2.0.1)\n",
            "Building wheels for collected packages: folium\n",
            "  Building wheel for folium (setup.py) ... \u001b[?25l\u001b[?25hdone\n",
            "  Created wheel for folium: filename=folium-0.2.1-py3-none-any.whl size=79808 sha256=ed7e6ec8a69cef0de82bd97ed9201ac4a0bdccd22caf7fafbbfc2bb5c6c28117\n",
            "  Stored in directory: /root/.cache/pip/wheels/9a/f0/3a/3f79a6914ff5affaf50cabad60c9f4d565283283c97f0bdccf\n",
            "Successfully built folium\n",
            "Installing collected packages: folium\n",
            "  Attempting uninstall: folium\n",
            "    Found existing installation: folium 0.12.1.post1\n",
            "    Uninstalling folium-0.12.1.post1:\n",
            "      Successfully uninstalled folium-0.12.1.post1\n",
            "\u001b[31mERROR: pip's dependency resolver does not currently take into account all the packages that are installed. This behaviour is the source of the following dependency conflicts.\n",
            "datascience 0.17.5 requires folium>=0.9.1, but you have folium 0.2.1 which is incompatible.\u001b[0m\n",
            "Successfully installed folium-0.2.1\n",
            "Looking in indexes: https://pypi.org/simple, https://us-python.pkg.dev/colab-wheels/public/simple/\n",
            "Collecting tensorflow==2.8\n",
            "  Downloading https://us-python.pkg.dev/colab-wheels/public/tensorflow/tensorflow-2.8.0%2Bzzzcolab20220506162203-cp37-cp37m-linux_x86_64.whl (668.3 MB)\n",
            "\u001b[K     |████████████████████████████████| 668.3 MB 17 kB/s \n",
            "\u001b[?25hRequirement already satisfied: astunparse>=1.6.0 in /usr/local/lib/python3.7/dist-packages (from tensorflow==2.8) (1.6.3)\n",
            "\u001b[33mWARNING: Retrying (Retry(total=4, connect=None, read=None, redirect=None, status=None)) after connection broken by 'ProtocolError('Connection aborted.', ConnectionResetError(104, 'Connection reset by peer'))': /simple/tf-estimator-nightly/\u001b[0m\n",
            "Collecting tf-estimator-nightly==2.8.0.dev2021122109\n",
            "  Downloading tf_estimator_nightly-2.8.0.dev2021122109-py2.py3-none-any.whl (462 kB)\n",
            "\u001b[K     |████████████████████████████████| 462 kB 7.7 MB/s \n",
            "\u001b[?25hRequirement already satisfied: opt-einsum>=2.3.2 in /usr/local/lib/python3.7/dist-packages (from tensorflow==2.8) (3.3.0)\n",
            "Requirement already satisfied: grpcio<2.0,>=1.24.3 in /usr/local/lib/python3.7/dist-packages (from tensorflow==2.8) (1.49.1)\n",
            "Requirement already satisfied: typing-extensions>=3.6.6 in /usr/local/lib/python3.7/dist-packages (from tensorflow==2.8) (4.1.1)\n",
            "Requirement already satisfied: six>=1.12.0 in /usr/local/lib/python3.7/dist-packages (from tensorflow==2.8) (1.15.0)\n",
            "Requirement already satisfied: absl-py>=0.4.0 in /usr/local/lib/python3.7/dist-packages (from tensorflow==2.8) (1.3.0)\n",
            "Requirement already satisfied: tensorflow-io-gcs-filesystem>=0.23.1 in /usr/local/lib/python3.7/dist-packages (from tensorflow==2.8) (0.27.0)\n",
            "Requirement already satisfied: gast>=0.2.1 in /usr/local/lib/python3.7/dist-packages (from tensorflow==2.8) (0.4.0)\n",
            "Requirement already satisfied: libclang>=9.0.1 in /usr/local/lib/python3.7/dist-packages (from tensorflow==2.8) (14.0.6)\n",
            "Collecting tensorboard<2.9,>=2.8\n",
            "  Downloading tensorboard-2.8.0-py3-none-any.whl (5.8 MB)\n",
            "\u001b[K     |████████████████████████████████| 5.8 MB 65.6 MB/s \n",
            "\u001b[?25hRequirement already satisfied: flatbuffers>=1.12 in /usr/local/lib/python3.7/dist-packages (from tensorflow==2.8) (1.12)\n",
            "Requirement already satisfied: protobuf>=3.9.2 in /usr/local/lib/python3.7/dist-packages (from tensorflow==2.8) (3.17.3)\n",
            "Requirement already satisfied: h5py>=2.9.0 in /usr/local/lib/python3.7/dist-packages (from tensorflow==2.8) (3.1.0)\n",
            "Collecting keras<2.9,>=2.8.0rc0\n",
            "  Downloading keras-2.8.0-py2.py3-none-any.whl (1.4 MB)\n",
            "\u001b[K     |████████████████████████████████| 1.4 MB 50.8 MB/s \n",
            "\u001b[?25hRequirement already satisfied: keras-preprocessing>=1.1.1 in /usr/local/lib/python3.7/dist-packages (from tensorflow==2.8) (1.1.2)\n",
            "Requirement already satisfied: numpy>=1.20 in /usr/local/lib/python3.7/dist-packages (from tensorflow==2.8) (1.21.6)\n",
            "Requirement already satisfied: setuptools in /usr/local/lib/python3.7/dist-packages (from tensorflow==2.8) (57.4.0)\n",
            "Requirement already satisfied: google-pasta>=0.1.1 in /usr/local/lib/python3.7/dist-packages (from tensorflow==2.8) (0.2.0)\n",
            "Requirement already satisfied: termcolor>=1.1.0 in /usr/local/lib/python3.7/dist-packages (from tensorflow==2.8) (2.0.1)\n",
            "Requirement already satisfied: wrapt>=1.11.0 in /usr/local/lib/python3.7/dist-packages (from tensorflow==2.8) (1.14.1)\n",
            "Requirement already satisfied: wheel<1.0,>=0.23.0 in /usr/local/lib/python3.7/dist-packages (from astunparse>=1.6.0->tensorflow==2.8) (0.37.1)\n",
            "Requirement already satisfied: cached-property in /usr/local/lib/python3.7/dist-packages (from h5py>=2.9.0->tensorflow==2.8) (1.5.2)\n",
            "Requirement already satisfied: google-auth<3,>=1.6.3 in /usr/local/lib/python3.7/dist-packages (from tensorboard<2.9,>=2.8->tensorflow==2.8) (1.35.0)\n",
            "Requirement already satisfied: requests<3,>=2.21.0 in /usr/local/lib/python3.7/dist-packages (from tensorboard<2.9,>=2.8->tensorflow==2.8) (2.23.0)\n",
            "Requirement already satisfied: google-auth-oauthlib<0.5,>=0.4.1 in /usr/local/lib/python3.7/dist-packages (from tensorboard<2.9,>=2.8->tensorflow==2.8) (0.4.6)\n",
            "Requirement already satisfied: werkzeug>=0.11.15 in /usr/local/lib/python3.7/dist-packages (from tensorboard<2.9,>=2.8->tensorflow==2.8) (1.0.1)\n",
            "Requirement already satisfied: tensorboard-data-server<0.7.0,>=0.6.0 in /usr/local/lib/python3.7/dist-packages (from tensorboard<2.9,>=2.8->tensorflow==2.8) (0.6.1)\n",
            "Requirement already satisfied: tensorboard-plugin-wit>=1.6.0 in /usr/local/lib/python3.7/dist-packages (from tensorboard<2.9,>=2.8->tensorflow==2.8) (1.8.1)\n",
            "Requirement already satisfied: markdown>=2.6.8 in /usr/local/lib/python3.7/dist-packages (from tensorboard<2.9,>=2.8->tensorflow==2.8) (3.4.1)\n",
            "Requirement already satisfied: cachetools<5.0,>=2.0.0 in /usr/local/lib/python3.7/dist-packages (from google-auth<3,>=1.6.3->tensorboard<2.9,>=2.8->tensorflow==2.8) (4.2.4)\n",
            "Requirement already satisfied: rsa<5,>=3.1.4 in /usr/local/lib/python3.7/dist-packages (from google-auth<3,>=1.6.3->tensorboard<2.9,>=2.8->tensorflow==2.8) (4.9)\n",
            "Requirement already satisfied: pyasn1-modules>=0.2.1 in /usr/local/lib/python3.7/dist-packages (from google-auth<3,>=1.6.3->tensorboard<2.9,>=2.8->tensorflow==2.8) (0.2.8)\n",
            "Requirement already satisfied: requests-oauthlib>=0.7.0 in /usr/local/lib/python3.7/dist-packages (from google-auth-oauthlib<0.5,>=0.4.1->tensorboard<2.9,>=2.8->tensorflow==2.8) (1.3.1)\n",
            "Requirement already satisfied: importlib-metadata>=4.4 in /usr/local/lib/python3.7/dist-packages (from markdown>=2.6.8->tensorboard<2.9,>=2.8->tensorflow==2.8) (4.13.0)\n",
            "Requirement already satisfied: zipp>=0.5 in /usr/local/lib/python3.7/dist-packages (from importlib-metadata>=4.4->markdown>=2.6.8->tensorboard<2.9,>=2.8->tensorflow==2.8) (3.9.0)\n",
            "Requirement already satisfied: pyasn1<0.5.0,>=0.4.6 in /usr/local/lib/python3.7/dist-packages (from pyasn1-modules>=0.2.1->google-auth<3,>=1.6.3->tensorboard<2.9,>=2.8->tensorflow==2.8) (0.4.8)\n",
            "Requirement already satisfied: chardet<4,>=3.0.2 in /usr/local/lib/python3.7/dist-packages (from requests<3,>=2.21.0->tensorboard<2.9,>=2.8->tensorflow==2.8) (3.0.4)\n",
            "Requirement already satisfied: urllib3!=1.25.0,!=1.25.1,<1.26,>=1.21.1 in /usr/local/lib/python3.7/dist-packages (from requests<3,>=2.21.0->tensorboard<2.9,>=2.8->tensorflow==2.8) (1.24.3)\n",
            "Requirement already satisfied: certifi>=2017.4.17 in /usr/local/lib/python3.7/dist-packages (from requests<3,>=2.21.0->tensorboard<2.9,>=2.8->tensorflow==2.8) (2022.9.24)\n",
            "Requirement already satisfied: idna<3,>=2.5 in /usr/local/lib/python3.7/dist-packages (from requests<3,>=2.21.0->tensorboard<2.9,>=2.8->tensorflow==2.8) (2.10)\n",
            "Requirement already satisfied: oauthlib>=3.0.0 in /usr/local/lib/python3.7/dist-packages (from requests-oauthlib>=0.7.0->google-auth-oauthlib<0.5,>=0.4.1->tensorboard<2.9,>=2.8->tensorflow==2.8) (3.2.1)\n",
            "Installing collected packages: tf-estimator-nightly, tensorboard, keras, tensorflow\n",
            "  Attempting uninstall: tensorboard\n",
            "    Found existing installation: tensorboard 2.9.1\n",
            "    Uninstalling tensorboard-2.9.1:\n",
            "      Successfully uninstalled tensorboard-2.9.1\n",
            "  Attempting uninstall: keras\n",
            "    Found existing installation: keras 2.9.0\n",
            "    Uninstalling keras-2.9.0:\n",
            "      Successfully uninstalled keras-2.9.0\n",
            "  Attempting uninstall: tensorflow\n",
            "    Found existing installation: tensorflow 2.9.2\n",
            "    Uninstalling tensorflow-2.9.2:\n",
            "      Successfully uninstalled tensorflow-2.9.2\n",
            "Successfully installed keras-2.8.0 tensorboard-2.8.0 tensorflow-2.8.0+zzzcolab20220506162203 tf-estimator-nightly-2.8.0.dev2021122109\n",
            "Reading package lists... Done\n",
            "Building dependency tree       \n",
            "Reading state information... Done\n",
            "The following package was automatically installed and is no longer required:\n",
            "  libnvidia-common-460\n",
            "Use 'apt autoremove' to remove it.\n",
            "The following packages will be REMOVED:\n",
            "  libcudnn8-dev\n",
            "The following held packages will be changed:\n",
            "  libcudnn8\n",
            "The following packages will be DOWNGRADED:\n",
            "  libcudnn8\n",
            "0 upgraded, 0 newly installed, 1 downgraded, 1 to remove and 25 not upgraded.\n",
            "Need to get 430 MB of archives.\n",
            "After this operation, 1,392 MB disk space will be freed.\n",
            "Get:1 https://developer.download.nvidia.com/compute/cuda/repos/ubuntu1804/x86_64  libcudnn8 8.1.0.77-1+cuda11.2 [430 MB]\n",
            "Fetched 430 MB in 7s (63.4 MB/s)\n",
            "(Reading database ... 123942 files and directories currently installed.)\n",
            "Removing libcudnn8-dev (8.1.1.33-1+cuda11.2) ...\n",
            "update-alternatives: removing manually selected alternative - switching libcudnn to auto mode\n",
            "\u001b[1mdpkg:\u001b[0m \u001b[1;33mwarning:\u001b[0m downgrading libcudnn8 from 8.1.1.33-1+cuda11.2 to 8.1.0.77-1+cuda11.2\n",
            "(Reading database ... 123919 files and directories currently installed.)\n",
            "Preparing to unpack .../libcudnn8_8.1.0.77-1+cuda11.2_amd64.deb ...\n",
            "Unpacking libcudnn8 (8.1.0.77-1+cuda11.2) over (8.1.1.33-1+cuda11.2) ...\n",
            "Setting up libcudnn8 (8.1.0.77-1+cuda11.2) ...\n",
            "\u001b[K     |████████████████████████████████| 577 kB 8.7 MB/s \n",
            "\u001b[K     |████████████████████████████████| 238 kB 67.8 MB/s \n",
            "\u001b[K     |████████████████████████████████| 3.4 MB 64.2 MB/s \n",
            "\u001b[K     |████████████████████████████████| 1.3 MB 51.0 MB/s \n",
            "\u001b[K     |████████████████████████████████| 60.2 MB 1.2 MB/s \n",
            "\u001b[K     |████████████████████████████████| 840 kB 64.0 MB/s \n",
            "\u001b[K     |████████████████████████████████| 77 kB 7.3 MB/s \n",
            "\u001b[K     |████████████████████████████████| 128 kB 80.6 MB/s \n",
            "\u001b[K     |████████████████████████████████| 10.9 MB 61.4 MB/s \n",
            "\u001b[K     |████████████████████████████████| 1.1 MB 78.8 MB/s \n",
            "\u001b[K     |████████████████████████████████| 87 kB 7.4 MB/s \n",
            "\u001b[K     |████████████████████████████████| 25.3 MB 1.2 MB/s \n",
            "\u001b[K     |████████████████████████████████| 352 kB 75.9 MB/s \n",
            "\u001b[K     |████████████████████████████████| 99 kB 10.9 MB/s \n",
            "\u001b[K     |████████████████████████████████| 40 kB 6.0 MB/s \n",
            "\u001b[K     |████████████████████████████████| 213 kB 60.1 MB/s \n",
            "\u001b[K     |████████████████████████████████| 1.0 MB 70.0 MB/s \n",
            "\u001b[?25h  Building wheel for fire (setup.py) ... \u001b[?25l\u001b[?25hdone\n",
            "  Building wheel for py-cpuinfo (setup.py) ... \u001b[?25l\u001b[?25hdone\n"
          ]
        }
      ],
      "source": [
        "from google.colab import drive\n",
        "drive.mount('/content/drive')\n",
        "\n",
        "!pip install folium==0.2.1\n",
        "!pip install tensorflow==2.8\n",
        "!apt install --allow-change-held-packages libcudnn8=8.1.0.77-1+cuda11.2\n",
        "!pip install -q tflite-model-maker\n",
        "!pip install -q tflite-support\n",
        "\n",
        "import numpy as np\n",
        "import os\n",
        "\n",
        "from tflite_model_maker.config import ExportFormat, QuantizationConfig\n",
        "from tflite_model_maker import model_spec\n",
        "from tflite_model_maker import object_detector\n",
        "\n",
        "from tflite_support import metadata\n",
        "\n",
        "import tensorflow as tf\n",
        "assert tf.__version__.startswith('2')\n",
        "\n",
        "tf.get_logger().setLevel('ERROR')\n",
        "from absl import logging\n",
        "logging.set_verbosity(logging.ERROR)"
      ]
    },
    {
      "cell_type": "code",
      "execution_count": 2,
      "metadata": {
        "id": "-2Bh6hnDb347"
      },
      "outputs": [],
      "source": [
        "!unzip -q /content/drive/MyDrive/object_detector/training_set.zip"
      ]
    },
    {
      "cell_type": "code",
      "execution_count": 8,
      "metadata": {
        "id": "HBAfF82Q_rUo"
      },
      "outputs": [],
      "source": [
        "from pydoc import importfile\n",
        "classes = importfile(\"/content/training_set/classes.py\")\n",
        "\n",
        "train_data = object_detector.DataLoader.from_pascal_voc(\n",
        "    '/content/training_set/train',\n",
        "    '/content/training_set/train',\n",
        "    classes.CLASSES\n",
        ")\n",
        "\n",
        "val_data = object_detector.DataLoader.from_pascal_voc(\n",
        "    '/content/training_set/validate',\n",
        "    '/content/training_set/validate',\n",
        "    classes.CLASSES\n",
        ")"
      ]
    },
    {
      "cell_type": "code",
      "execution_count": 9,
      "metadata": {
        "colab": {
          "base_uri": "https://localhost:8080/"
        },
        "id": "uW7AsxXwc0r8",
        "outputId": "9aedd97a-556c-4651-bce2-25ec615c73d5"
      },
      "outputs": [
        {
          "output_type": "stream",
          "name": "stdout",
          "text": [
            "Epoch 1/20\n",
            "15/15 [==============================] - 44s 644ms/step - det_loss: 1.6611 - cls_loss: 1.1040 - box_loss: 0.0111 - reg_l2_loss: 0.0630 - loss: 1.7241 - learning_rate: 0.0065 - gradient_norm: 1.9800 - val_det_loss: 1.5662 - val_cls_loss: 1.0723 - val_box_loss: 0.0099 - val_reg_l2_loss: 0.0630 - val_loss: 1.6292\n",
            "Epoch 2/20\n",
            "15/15 [==============================] - 7s 488ms/step - det_loss: 1.4134 - cls_loss: 0.9842 - box_loss: 0.0086 - reg_l2_loss: 0.0630 - loss: 1.4763 - learning_rate: 0.0049 - gradient_norm: 3.4590 - val_det_loss: 1.1898 - val_cls_loss: 0.8023 - val_box_loss: 0.0077 - val_reg_l2_loss: 0.0630 - val_loss: 1.2528\n",
            "Epoch 3/20\n",
            "15/15 [==============================] - 7s 490ms/step - det_loss: 1.1200 - cls_loss: 0.7491 - box_loss: 0.0074 - reg_l2_loss: 0.0630 - loss: 1.1830 - learning_rate: 0.0048 - gradient_norm: 2.8600 - val_det_loss: 0.9086 - val_cls_loss: 0.5883 - val_box_loss: 0.0064 - val_reg_l2_loss: 0.0630 - val_loss: 0.9716\n",
            "Epoch 4/20\n",
            "15/15 [==============================] - 8s 526ms/step - det_loss: 0.8905 - cls_loss: 0.5759 - box_loss: 0.0063 - reg_l2_loss: 0.0630 - loss: 0.9535 - learning_rate: 0.0046 - gradient_norm: 2.9108 - val_det_loss: 0.7280 - val_cls_loss: 0.4599 - val_box_loss: 0.0054 - val_reg_l2_loss: 0.0630 - val_loss: 0.7910\n",
            "Epoch 5/20\n",
            "15/15 [==============================] - 14s 1s/step - det_loss: 0.7179 - cls_loss: 0.4595 - box_loss: 0.0052 - reg_l2_loss: 0.0630 - loss: 0.7809 - learning_rate: 0.0043 - gradient_norm: 2.8263 - val_det_loss: 0.5762 - val_cls_loss: 0.3684 - val_box_loss: 0.0042 - val_reg_l2_loss: 0.0630 - val_loss: 0.6393\n",
            "Epoch 6/20\n",
            "15/15 [==============================] - 7s 492ms/step - det_loss: 0.6123 - cls_loss: 0.3895 - box_loss: 0.0045 - reg_l2_loss: 0.0630 - loss: 0.6754 - learning_rate: 0.0040 - gradient_norm: 2.9403 - val_det_loss: 0.5457 - val_cls_loss: 0.3668 - val_box_loss: 0.0036 - val_reg_l2_loss: 0.0630 - val_loss: 0.6087\n",
            "Epoch 7/20\n",
            "15/15 [==============================] - 8s 532ms/step - det_loss: 0.5881 - cls_loss: 0.3798 - box_loss: 0.0042 - reg_l2_loss: 0.0630 - loss: 0.6512 - learning_rate: 0.0037 - gradient_norm: 2.5656 - val_det_loss: 0.4494 - val_cls_loss: 0.2901 - val_box_loss: 0.0032 - val_reg_l2_loss: 0.0630 - val_loss: 0.5124\n",
            "Epoch 8/20\n",
            "15/15 [==============================] - 7s 488ms/step - det_loss: 0.5046 - cls_loss: 0.3285 - box_loss: 0.0035 - reg_l2_loss: 0.0630 - loss: 0.5676 - learning_rate: 0.0033 - gradient_norm: 2.5726 - val_det_loss: 0.3844 - val_cls_loss: 0.2545 - val_box_loss: 0.0026 - val_reg_l2_loss: 0.0630 - val_loss: 0.4474\n",
            "Epoch 9/20\n",
            "15/15 [==============================] - 7s 492ms/step - det_loss: 0.4746 - cls_loss: 0.3164 - box_loss: 0.0032 - reg_l2_loss: 0.0630 - loss: 0.5376 - learning_rate: 0.0029 - gradient_norm: 2.6702 - val_det_loss: 0.3777 - val_cls_loss: 0.2484 - val_box_loss: 0.0026 - val_reg_l2_loss: 0.0630 - val_loss: 0.4407\n",
            "Epoch 10/20\n",
            "15/15 [==============================] - 13s 921ms/step - det_loss: 0.4675 - cls_loss: 0.3160 - box_loss: 0.0030 - reg_l2_loss: 0.0630 - loss: 0.5306 - learning_rate: 0.0025 - gradient_norm: 2.5257 - val_det_loss: 0.3746 - val_cls_loss: 0.2505 - val_box_loss: 0.0025 - val_reg_l2_loss: 0.0630 - val_loss: 0.4376\n",
            "Epoch 11/20\n",
            "15/15 [==============================] - 9s 593ms/step - det_loss: 0.4339 - cls_loss: 0.2965 - box_loss: 0.0027 - reg_l2_loss: 0.0630 - loss: 0.4969 - learning_rate: 0.0021 - gradient_norm: 2.4373 - val_det_loss: 0.3324 - val_cls_loss: 0.2292 - val_box_loss: 0.0021 - val_reg_l2_loss: 0.0630 - val_loss: 0.3955\n",
            "Epoch 12/20\n",
            "15/15 [==============================] - 7s 486ms/step - det_loss: 0.3837 - cls_loss: 0.2678 - box_loss: 0.0023 - reg_l2_loss: 0.0630 - loss: 0.4468 - learning_rate: 0.0017 - gradient_norm: 2.0490 - val_det_loss: 0.3159 - val_cls_loss: 0.2164 - val_box_loss: 0.0020 - val_reg_l2_loss: 0.0630 - val_loss: 0.3790\n",
            "Epoch 13/20\n",
            "15/15 [==============================] - 7s 492ms/step - det_loss: 0.4222 - cls_loss: 0.2924 - box_loss: 0.0026 - reg_l2_loss: 0.0630 - loss: 0.4852 - learning_rate: 0.0013 - gradient_norm: 2.9362 - val_det_loss: 0.3133 - val_cls_loss: 0.2250 - val_box_loss: 0.0018 - val_reg_l2_loss: 0.0630 - val_loss: 0.3763\n",
            "Epoch 14/20\n",
            "15/15 [==============================] - 7s 498ms/step - det_loss: 0.3903 - cls_loss: 0.2688 - box_loss: 0.0024 - reg_l2_loss: 0.0630 - loss: 0.4534 - learning_rate: 9.6772e-04 - gradient_norm: 2.3444 - val_det_loss: 0.2988 - val_cls_loss: 0.2090 - val_box_loss: 0.0018 - val_reg_l2_loss: 0.0630 - val_loss: 0.3618\n",
            "Epoch 15/20\n",
            "15/15 [==============================] - 11s 740ms/step - det_loss: 0.3661 - cls_loss: 0.2592 - box_loss: 0.0021 - reg_l2_loss: 0.0630 - loss: 0.4291 - learning_rate: 6.6413e-04 - gradient_norm: 2.1102 - val_det_loss: 0.2924 - val_cls_loss: 0.2088 - val_box_loss: 0.0017 - val_reg_l2_loss: 0.0630 - val_loss: 0.3555\n",
            "Epoch 16/20\n",
            "15/15 [==============================] - 8s 531ms/step - det_loss: 0.3613 - cls_loss: 0.2567 - box_loss: 0.0021 - reg_l2_loss: 0.0630 - loss: 0.4244 - learning_rate: 4.1061e-04 - gradient_norm: 1.8631 - val_det_loss: 0.2936 - val_cls_loss: 0.2119 - val_box_loss: 0.0016 - val_reg_l2_loss: 0.0630 - val_loss: 0.3566\n",
            "Epoch 17/20\n",
            "15/15 [==============================] - 7s 486ms/step - det_loss: 0.3879 - cls_loss: 0.2772 - box_loss: 0.0022 - reg_l2_loss: 0.0630 - loss: 0.4510 - learning_rate: 2.1409e-04 - gradient_norm: 2.3974 - val_det_loss: 0.2957 - val_cls_loss: 0.2130 - val_box_loss: 0.0017 - val_reg_l2_loss: 0.0630 - val_loss: 0.3587\n",
            "Epoch 18/20\n",
            "15/15 [==============================] - 7s 487ms/step - det_loss: 0.4304 - cls_loss: 0.2983 - box_loss: 0.0026 - reg_l2_loss: 0.0630 - loss: 0.4934 - learning_rate: 7.9920e-05 - gradient_norm: 3.3343 - val_det_loss: 0.2952 - val_cls_loss: 0.2140 - val_box_loss: 0.0016 - val_reg_l2_loss: 0.0630 - val_loss: 0.3583\n",
            "Epoch 19/20\n",
            "15/15 [==============================] - 7s 493ms/step - det_loss: 0.4007 - cls_loss: 0.2810 - box_loss: 0.0024 - reg_l2_loss: 0.0630 - loss: 0.4638 - learning_rate: 1.1764e-05 - gradient_norm: 2.3761 - val_det_loss: 0.2962 - val_cls_loss: 0.2159 - val_box_loss: 0.0016 - val_reg_l2_loss: 0.0630 - val_loss: 0.3592\n",
            "Epoch 20/20\n",
            "15/15 [==============================] - 11s 781ms/step - det_loss: 0.4149 - cls_loss: 0.2906 - box_loss: 0.0025 - reg_l2_loss: 0.0630 - loss: 0.4779 - learning_rate: 1.1480e-05 - gradient_norm: 2.3825 - val_det_loss: 0.2980 - val_cls_loss: 0.2177 - val_box_loss: 0.0016 - val_reg_l2_loss: 0.0630 - val_loss: 0.3611\n"
          ]
        }
      ],
      "source": [
        "spec = model_spec.get('efficientdet_lite0')\n",
        "model = object_detector.create(train_data, model_spec=spec, batch_size=4, train_whole_model=True, epochs=20, validation_data=val_data)"
      ]
    },
    {
      "cell_type": "code",
      "execution_count": 10,
      "metadata": {
        "colab": {
          "base_uri": "https://localhost:8080/"
        },
        "id": "BgxyZmmwgQiN",
        "outputId": "5fa60f4f-0911-46df-b43a-d442c22ab518"
      },
      "outputs": [
        {
          "output_type": "stream",
          "name": "stdout",
          "text": [
            "\r1/1 [==============================] - 7s 7s/step\n",
            "\n"
          ]
        },
        {
          "output_type": "execute_result",
          "data": {
            "text/plain": [
              "{'AP': 0.8135565,\n",
              " 'AP50': 1.0,\n",
              " 'AP75': 1.0,\n",
              " 'APs': -1.0,\n",
              " 'APm': -1.0,\n",
              " 'APl': 0.8135565,\n",
              " 'ARmax1': 0.8361111,\n",
              " 'ARmax10': 0.8423611,\n",
              " 'ARmax100': 0.8423611,\n",
              " 'ARs': -1.0,\n",
              " 'ARm': -1.0,\n",
              " 'ARl': 0.8423611,\n",
              " 'AP_/android': 0.82260257,\n",
              " 'AP_/pig_android': 0.8045105}"
            ]
          },
          "metadata": {},
          "execution_count": 10
        }
      ],
      "source": [
        "model.evaluate(val_data)"
      ]
    },
    {
      "cell_type": "code",
      "execution_count": 11,
      "metadata": {
        "id": "qNeI-dt4gUU9"
      },
      "outputs": [],
      "source": [
        "model.export(export_dir='.', tflite_filename='detector.tflite')"
      ]
    },
    {
      "cell_type": "code",
      "execution_count": 12,
      "metadata": {
        "id": "vW3ycrL1gW-8",
        "colab": {
          "base_uri": "https://localhost:8080/"
        },
        "outputId": "c546651c-afef-4e05-e5e0-f2d41cb8fbe7"
      },
      "outputs": [
        {
          "output_type": "stream",
          "name": "stdout",
          "text": [
            "10/10 [==============================] - 26s 2s/step\n",
            "\n"
          ]
        },
        {
          "output_type": "execute_result",
          "data": {
            "text/plain": [
              "{'AP': 0.79163367,\n",
              " 'AP50': 1.0,\n",
              " 'AP75': 1.0,\n",
              " 'APs': -1.0,\n",
              " 'APm': -1.0,\n",
              " 'APl': 0.79163367,\n",
              " 'ARmax1': 0.81805557,\n",
              " 'ARmax10': 0.81805557,\n",
              " 'ARmax100': 0.81805557,\n",
              " 'ARs': -1.0,\n",
              " 'ARm': -1.0,\n",
              " 'ARl': 0.81805557,\n",
              " 'AP_/android': 0.80594057,\n",
              " 'AP_/pig_android': 0.7773267}"
            ]
          },
          "metadata": {},
          "execution_count": 12
        }
      ],
      "source": [
        "model.evaluate_tflite('detector.tflite', val_data)"
      ]
    },
    {
      "cell_type": "code",
      "source": [
        "!mv detector.tflite /content/drive/MyDrive/object_detector/"
      ],
      "metadata": {
        "id": "GSbIudVTwE0w"
      },
      "execution_count": 13,
      "outputs": []
    }
  ],
  "metadata": {
    "accelerator": "GPU",
    "colab": {
      "collapsed_sections": [],
      "machine_shape": "hm",
      "provenance": []
    },
    "gpuClass": "standard",
    "kernelspec": {
      "display_name": "Python 3",
      "name": "python3"
    },
    "language_info": {
      "name": "python"
    }
  },
  "nbformat": 4,
  "nbformat_minor": 0
}