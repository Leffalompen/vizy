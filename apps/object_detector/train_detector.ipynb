{
  "cells": [
    {
      "cell_type": "code",
      "execution_count": 1,
      "metadata": {
        "colab": {
          "base_uri": "https://localhost:8080/"
        },
        "id": "gq3E08vWXsGv",
        "outputId": "b5120d0c-8255-4fc6-8101-ee15b1d3301f"
      },
      "outputs": [],
      "source": [
        "from google.colab import drive\n",
        "drive.mount('/content/drive')\n",
        "\n",
        "!pip install folium==0.2.1\n",
        "!pip install tensorflow==2.8\n",
        "!apt install --allow-change-held-packages libcudnn8=8.1.0.77-1+cuda11.2\n",
        "!pip install -q tflite-model-maker\n",
        "!pip install -q tflite-support\n",
        "\n",
        "import numpy as np\n",
        "import os\n",
        "\n",
        "from tflite_model_maker.config import ExportFormat, QuantizationConfig\n",
        "from tflite_model_maker import model_spec\n",
        "from tflite_model_maker import object_detector\n",
        "\n",
        "from tflite_support import metadata\n",
        "\n",
        "import tensorflow as tf\n",
        "assert tf.__version__.startswith('2')\n",
        "\n",
        "tf.get_logger().setLevel('ERROR')\n",
        "from absl import logging\n",
        "logging.set_verbosity(logging.ERROR)"
      ]
    },
    {
      "cell_type": "code",
      "execution_count": 2,
      "metadata": {
        "id": "-2Bh6hnDb347"
      },
      "outputs": [],
      "source": [
        "!unzip -q /content/drive/MyDrive/object_detector/training_set.zip"
      ]
    },
    {
      "cell_type": "code",
      "execution_count": 8,
      "metadata": {
        "id": "HBAfF82Q_rUo"
      },
      "outputs": [],
      "source": [
        "from pydoc import importfile\n",
        "classes = importfile(\"/content/training_set/classes.py\")\n",
        "\n",
        "train_data = object_detector.DataLoader.from_pascal_voc(\n",
        "    '/content/training_set/train',\n",
        "    '/content/training_set/train',\n",
        "    classes.CLASSES\n",
        ")\n",
        "\n",
        "val_data = object_detector.DataLoader.from_pascal_voc(\n",
        "    '/content/training_set/validate',\n",
        "    '/content/training_set/validate',\n",
        "    classes.CLASSES\n",
        ")"
      ]
    },
    {
      "cell_type": "code",
      "execution_count": 9,
      "metadata": {
        "colab": {
          "base_uri": "https://localhost:8080/"
        },
        "id": "uW7AsxXwc0r8",
        "outputId": "9aedd97a-556c-4651-bce2-25ec615c73d5"
      },
      "outputs": [],
      "source": [
        "spec = model_spec.get('efficientdet_lite0')\n",
        "model = object_detector.create(train_data, model_spec=spec, batch_size=4, train_whole_model=True, epochs=20, validation_data=val_data)"
      ]
    },
    {
      "cell_type": "code",
      "execution_count": 10,
      "metadata": {
        "colab": {
          "base_uri": "https://localhost:8080/"
        },
        "id": "BgxyZmmwgQiN",
        "outputId": "5fa60f4f-0911-46df-b43a-d442c22ab518"
      },
      "outputs": [],
      "source": [
        "model.evaluate(val_data)"
      ]
    },
    {
      "cell_type": "code",
      "execution_count": 11,
      "metadata": {
        "id": "qNeI-dt4gUU9"
      },
      "outputs": [],
      "source": [
        "model.export(export_dir='.', tflite_filename='detector.tflite')"
      ]
    },
    {
      "cell_type": "code",
      "execution_count": 12,
      "metadata": {
        "id": "vW3ycrL1gW-8",
        "colab": {
          "base_uri": "https://localhost:8080/"
        },
        "outputId": "c546651c-afef-4e05-e5e0-f2d41cb8fbe7"
      },
      "outputs": [],
      "source": [
        "model.evaluate_tflite('detector.tflite', val_data)"
      ]
    },
    {
      "cell_type": "code",
      "source": [
        "!mv detector.tflite /content/drive/MyDrive/object_detector/"
      ],
      "metadata": {
        "id": "GSbIudVTwE0w"
      },
      "execution_count": 13,
      "outputs": []
    }
  ],
  "metadata": {
    "accelerator": "GPU",
    "colab": {
      "collapsed_sections": [],
      "machine_shape": "hm",
      "provenance": []
    },
    "gpuClass": "standard",
    "kernelspec": {
      "display_name": "Python 3",
      "name": "python3"
    },
    "language_info": {
      "name": "python"
    }
  },
  "nbformat": 4,
  "nbformat_minor": 0
}